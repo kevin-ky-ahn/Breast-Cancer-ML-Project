{
 "cells": [
  {
   "cell_type": "code",
   "execution_count": null,
   "id": "1923c6eb",
   "metadata": {},
   "outputs": [],
   "source": [
    "!python -m venv my_env"
   ]
  },
  {
   "cell_type": "code",
   "execution_count": null,
   "id": "4aa300b6",
   "metadata": {
    "scrolled": true
   },
   "outputs": [],
   "source": [
    "import numpy as np\n",
    "import pandas as pd\n",
    "import datatable as dt\n",
    "from datatable import f\n",
    "import matplotlib.pyplot as plt\n",
    "import seaborn as sns\n",
    "\n",
    "from sklearn.model_selection import train_test_split, cross_val_score\n",
    "from sklearn.ensemble import RandomForestClassifier\n",
    "from sklearn.model_selection import GridSearchCV\n",
    "from sklearn.metrics import accuracy_score\n",
    "from sklearn.metrics import roc_curve, roc_auc_score, det_curve\n",
    "from sklearn.datasets import make_classification\n",
    "\n",
    "import scipy\n",
    "import statsmodels\n",
    "import keras\n",
    "import nltk\n",
    "import torch\n",
    "import tensorflow\n",
    "import pipe\n",
    "import pprint\n",
    "import random\n",
    "\n",
    "pd.set_option('display.max_columns', None)\n",
    "pd.set_option('display.max_rows', 1000)"
   ]
  },
  {
   "cell_type": "code",
   "execution_count": null,
   "id": "818ee539",
   "metadata": {},
   "outputs": [],
   "source": [
    "cancer_dataset = pd.read_csv('Breast_cancer_dataset.csv').drop('Unnamed: 32', axis=1)\n",
    "test_groups = pd.read_csv('simulated_data.csv')[['id', 'test_group']]\n",
    "df.tail()"
   ]
  },
  {
   "cell_type": "code",
   "execution_count": null,
   "id": "b20d4ba1",
   "metadata": {},
   "outputs": [],
   "source": [
    "columns_for_model = [col for col in df.columns.tolist()]\n",
    "train_group = set(test_groups[test_groups.test_group == 'train'].id.values.tolist())\n",
    "\n",
    "X_train = df[df.id.isin(train_group)][columns_for_model]\n",
    "X_test = df[~(df.id.isin(train_group))][columns_for_model]\n",
    "y_train = df[df.id.isin(train_group)].diagnosis\n",
    "y_test = df[~(df.id.isin(train_group))].diagnosis"
   ]
  },
  {
   "cell_type": "code",
   "execution_count": null,
   "id": "4548ffcc",
   "metadata": {},
   "outputs": [],
   "source": [
    "sns.set_theme(style=\"ticks\", palette=\"pastel\")\n",
    "input_columns = [col for col in df.columns[2:].tolist()]\n",
    "input_columns.sort()\n",
    "\n",
    "for col in input_columns:\n",
    "# Draw a nested boxplot to show bills by day and time\n",
    "    sns.boxplot(x='diagnosis', y=col,\n",
    "                hue='diagnosis',\n",
    "                data=X_train)\n",
    "    sns.despine(offset=10, trim=True)\n",
    "    plt.title(f\"{col}\")\n",
    "    plt.show()"
   ]
  },
  {
   "cell_type": "markdown",
   "id": "04d44e54",
   "metadata": {},
   "source": [
    " - drop concavity_se, fractal_dimension_mean, fractal_dimension_se, smoothness_se, symmetry_se, texture_se"
   ]
  },
  {
   "cell_type": "code",
   "execution_count": null,
   "id": "8960649f",
   "metadata": {},
   "outputs": [],
   "source": [
    "for i in range(len(input_columns)):\n",
    "    for j in range(i+1, len(input_columns)):\n",
    "        col1 = input_columns[i]\n",
    "        col2 = input_columns[j]\n",
    "        g = sns.FacetGrid(X_train.sort_values('diagnosis'), \n",
    "                          col='diagnosis', hue='diagnosis')\n",
    "        g.map(sns.scatterplot, col1, col2)\n",
    "        g.fig.subplots_adjust(top=0.8)\n",
    "        g.fig.suptitle(f\"{col1} vs {col2}\")\n",
    "        g.set_xlabels(col1)\n",
    "        g.set_ylabels(col2)\n",
    "        sns.despine(offset=10, trim=True)\n",
    "        plt.show()"
   ]
  },
  {
   "cell_type": "code",
   "execution_count": null,
   "id": "c0562e03",
   "metadata": {},
   "outputs": [],
   "source": [
    "for i in range(len(input_columns)):\n",
    "    for j in range(i+1, len(input_columns)):\n",
    "        col1 = input_columns[i]\n",
    "        col2 = input_columns[j]\n",
    "        if not col1 in ['concavity_se', 'fractal_dimension_mean', 'fractal_dimension_se', \n",
    "                        'smoothness_se', 'symmetry_se', 'texture_se'] and not col2 in [\n",
    "                        'concavity_se', 'fractal_dimension_mean', 'fractal_dimension_se', \n",
    "                         'smoothness_se', 'symmetry_se', 'texture_se']:\n",
    "                new_df = X_train.copy()\n",
    "                new_df[f'{col1}_times_{col2}'] = new_df[col1]*new_df[col2]\n",
    "                new_df[f'{col1}_over_{col2}'] = new_df[col1]/(new_df[col2] + 0.01)\n",
    "                fig, axes = plt.subplots(1, 2, figsize=(10, 5))\n",
    "                # Plot the first boxplot on the first axis\n",
    "                sns.boxplot(y=f'{col1}_times_{col2}', data=new_df, ax=axes[0], hue='diagnosis', showfliers=False)\n",
    "                axes[0].set_title(f'{col1} times {col2}')\n",
    "                # Plot the second boxplot on the second axis\n",
    "                sns.boxplot(y=f'{col1}_over_{col2}', data=new_df, ax=axes[1], hue='diagnosis', showfliers=False)\n",
    "                axes[1].set_title(f'{col1} over {col2}')\n",
    "\n",
    "                plt.tight_layout() \n",
    "                plt.show()"
   ]
  },
  {
   "cell_type": "code",
   "execution_count": null,
   "id": "842baea0",
   "metadata": {},
   "outputs": [],
   "source": []
  }
 ],
 "metadata": {
  "kernelspec": {
   "display_name": "Python 3 (ipykernel)",
   "language": "python",
   "name": "python3"
  },
  "language_info": {
   "codemirror_mode": {
    "name": "ipython",
    "version": 3
   },
   "file_extension": ".py",
   "mimetype": "text/x-python",
   "name": "python",
   "nbconvert_exporter": "python",
   "pygments_lexer": "ipython3",
   "version": "3.9.13"
  }
 },
 "nbformat": 4,
 "nbformat_minor": 5
}
